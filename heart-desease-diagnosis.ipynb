{
 "cells": [
  {
   "cell_type": "markdown",
   "metadata": {},
   "source": [
    "<h1 align=center>Diagnosing Heart Disease</h1>\n",
    "<h2 align=center>Using ML Tools and Techniques</h2>\n",
    "</br>"
   ]
  },
  {
   "cell_type": "markdown",
   "metadata": {},
   "source": [
    "<img style=\"  display: block;\n",
    "              margin-left: auto;\n",
    "              margin-right: auto;\n",
    "              width: 40%;\" \n",
    "     src=\"https://cdn.shopify.com/s/files/1/2294/9791/products/neon_heart_red_2_820x.jpg?v=1568665650\"/>"
   ]
  },
  {
   "cell_type": "code",
   "execution_count": 2,
   "metadata": {
    "_cell_guid": "79c7e3d0-c299-4dcb-8224-4455121ee9b0",
    "_uuid": "d629ff2d2480ee46fbb7e2d37f6b5fab8052498a"
   },
   "outputs": [],
   "source": [
    "import numpy as np # linear algebra\n",
    "import pandas as pd # data processing, CSV file I/O (e.g. pd.read_csv)\n",
    "import os\n",
    "print(os.listdir(\"../input\"))\n",
    "import matplotlib.pyplot as plt\n",
    "import seaborn as sns\n",
    "\n",
    "# Data splitting/parameter tuning\n",
    "from sklearn.model_selection import train_test_split\n",
    "from sklearn.model_selection import cross_val_predict\n",
    "from sklearn.model_selection import cross_val_score\n",
    "from sklearn.model_selection import GridSearchCV\n",
    "\n",
    "\n",
    "# ML models\n",
    "from sklearn.ensemble import RandomForestClassifier\n",
    "from sklearn.linear_model import LogisticRegression\n",
    "from sklearn.svm import SVC\n",
    "from sklearn.naive_bayes import GaussianNB\n",
    "from xgboost import XGBClassifier\n",
    "\n",
    "# Feature processing\n",
    "from sklearn.feature_selection import SelectPercentile, chi2\n",
    "\n",
    "# Evaluation metrics\n",
    "from sklearn.metrics import confusion_matrix"
   ]
  },
  {
   "cell_type": "markdown",
   "metadata": {},
   "source": [
    "Load the data."
   ]
  },
  {
   "cell_type": "code",
   "execution_count": 3,
   "metadata": {},
   "outputs": [],
   "source": [
    "heart_path = \"../input/heart.csv\"\n",
    "heart_data = pd.read_csv(heart_path)"
   ]
  },
  {
   "cell_type": "code",
   "execution_count": 4,
   "metadata": {},
   "outputs": [
    {
     "data": {
      "text/html": [
       "<div>\n",
       "<style scoped>\n",
       "    .dataframe tbody tr th:only-of-type {\n",
       "        vertical-align: middle;\n",
       "    }\n",
       "\n",
       "    .dataframe tbody tr th {\n",
       "        vertical-align: top;\n",
       "    }\n",
       "\n",
       "    .dataframe thead th {\n",
       "        text-align: right;\n",
       "    }\n",
       "</style>\n",
       "<table border=\"1\" class=\"dataframe\">\n",
       "  <thead>\n",
       "    <tr style=\"text-align: right;\">\n",
       "      <th></th>\n",
       "      <th>age</th>\n",
       "      <th>sex</th>\n",
       "      <th>cp</th>\n",
       "      <th>trestbps</th>\n",
       "      <th>chol</th>\n",
       "      <th>fbs</th>\n",
       "      <th>restecg</th>\n",
       "      <th>thalach</th>\n",
       "      <th>exang</th>\n",
       "      <th>oldpeak</th>\n",
       "      <th>slope</th>\n",
       "      <th>ca</th>\n",
       "      <th>thal</th>\n",
       "      <th>target</th>\n",
       "    </tr>\n",
       "  </thead>\n",
       "  <tbody>\n",
       "    <tr>\n",
       "      <th>0</th>\n",
       "      <td>63</td>\n",
       "      <td>1</td>\n",
       "      <td>3</td>\n",
       "      <td>145</td>\n",
       "      <td>233</td>\n",
       "      <td>1</td>\n",
       "      <td>0</td>\n",
       "      <td>150</td>\n",
       "      <td>0</td>\n",
       "      <td>2.3</td>\n",
       "      <td>0</td>\n",
       "      <td>0</td>\n",
       "      <td>1</td>\n",
       "      <td>1</td>\n",
       "    </tr>\n",
       "    <tr>\n",
       "      <th>1</th>\n",
       "      <td>37</td>\n",
       "      <td>1</td>\n",
       "      <td>2</td>\n",
       "      <td>130</td>\n",
       "      <td>250</td>\n",
       "      <td>0</td>\n",
       "      <td>1</td>\n",
       "      <td>187</td>\n",
       "      <td>0</td>\n",
       "      <td>3.5</td>\n",
       "      <td>0</td>\n",
       "      <td>0</td>\n",
       "      <td>2</td>\n",
       "      <td>1</td>\n",
       "    </tr>\n",
       "    <tr>\n",
       "      <th>2</th>\n",
       "      <td>41</td>\n",
       "      <td>0</td>\n",
       "      <td>1</td>\n",
       "      <td>130</td>\n",
       "      <td>204</td>\n",
       "      <td>0</td>\n",
       "      <td>0</td>\n",
       "      <td>172</td>\n",
       "      <td>0</td>\n",
       "      <td>1.4</td>\n",
       "      <td>2</td>\n",
       "      <td>0</td>\n",
       "      <td>2</td>\n",
       "      <td>1</td>\n",
       "    </tr>\n",
       "    <tr>\n",
       "      <th>3</th>\n",
       "      <td>56</td>\n",
       "      <td>1</td>\n",
       "      <td>1</td>\n",
       "      <td>120</td>\n",
       "      <td>236</td>\n",
       "      <td>0</td>\n",
       "      <td>1</td>\n",
       "      <td>178</td>\n",
       "      <td>0</td>\n",
       "      <td>0.8</td>\n",
       "      <td>2</td>\n",
       "      <td>0</td>\n",
       "      <td>2</td>\n",
       "      <td>1</td>\n",
       "    </tr>\n",
       "    <tr>\n",
       "      <th>4</th>\n",
       "      <td>57</td>\n",
       "      <td>0</td>\n",
       "      <td>0</td>\n",
       "      <td>120</td>\n",
       "      <td>354</td>\n",
       "      <td>0</td>\n",
       "      <td>1</td>\n",
       "      <td>163</td>\n",
       "      <td>1</td>\n",
       "      <td>0.6</td>\n",
       "      <td>2</td>\n",
       "      <td>0</td>\n",
       "      <td>2</td>\n",
       "      <td>1</td>\n",
       "    </tr>\n",
       "  </tbody>\n",
       "</table>\n",
       "</div>"
      ],
      "text/plain": [
       "   age  sex  cp  trestbps  chol   ...    oldpeak  slope  ca  thal  target\n",
       "0   63    1   3       145   233   ...        2.3      0   0     1       1\n",
       "1   37    1   2       130   250   ...        3.5      0   0     2       1\n",
       "2   41    0   1       130   204   ...        1.4      2   0     2       1\n",
       "3   56    1   1       120   236   ...        0.8      2   0     2       1\n",
       "4   57    0   0       120   354   ...        0.6      2   0     2       1\n",
       "\n",
       "[5 rows x 14 columns]"
      ]
     },
     "execution_count": 4,
     "metadata": {},
     "output_type": "execute_result"
    }
   ],
   "source": [
    "heart_data.head(5)"
   ]
  },
  {
   "cell_type": "markdown",
   "metadata": {},
   "source": [
    "# Columns\n",
    "\n",
    "* **age:** The person's age in years\n",
    "* **sex:** The person's sex (1 = male, 0 = female)\n",
    "* **cp:** The chest pain experienced (Value 1: typical angina, Value 2: atypical angina, Value 3: non-anginal pain, Value 4: asymptomatic)\n",
    "* **trestbps:** The person's resting blood pressure (mm Hg on admission to the hospital)\n",
    "* **chol:** The person's cholesterol measurement in mg/dl\n",
    "* **fbs:** The person's fasting blood sugar (> 120 mg/dl, 1 = true; 0 = false)\n",
    "* **restecg:** Resting electrocardiographic measurement (0 = normal, 1 = having ST-T wave abnormality, 2 = showing probable or definite left ventricular hypertrophy by Estes' criteria)\n",
    "* **thalach:** The person's maximum heart rate achieved\n",
    "* **exang:** Exercise induced angina (1 = yes; 0 = no)\n",
    "* **oldpeak:** ST depression induced by exercise relative to rest ('ST' relates to positions on the ECG plot. See more here)\n",
    "* **slope:** the slope of the peak exercise ST segment (Value 1: upsloping, Value 2: flat, Value 3: downsloping)\n",
    "* **ca:** The number of major vessels (0-3)\n",
    "* **thal:** A blood disorder called thalassemia (3 = normal; 6 = fixed defect; 7 = reversable defect)\n",
    "* **target:** Heart disease (0 = no, 1 = yes)"
   ]
  },
  {
   "cell_type": "code",
   "execution_count": 5,
   "metadata": {},
   "outputs": [
    {
     "name": "stdout",
     "output_type": "stream",
     "text": [
      "Heart data shape is: 303 x 14\n"
     ]
    }
   ],
   "source": [
    "print(\"Heart data shape is:\", heart_data.shape[0], \"x\", heart_data.shape[1])"
   ]
  },
  {
   "cell_type": "code",
   "execution_count": 6,
   "metadata": {},
   "outputs": [
    {
     "data": {
      "text/plain": [
       "age         0\n",
       "sex         0\n",
       "cp          0\n",
       "trestbps    0\n",
       "chol        0\n",
       "fbs         0\n",
       "restecg     0\n",
       "thalach     0\n",
       "exang       0\n",
       "oldpeak     0\n",
       "slope       0\n",
       "ca          0\n",
       "thal        0\n",
       "target      0\n",
       "dtype: int64"
      ]
     },
     "execution_count": 6,
     "metadata": {},
     "output_type": "execute_result"
    }
   ],
   "source": [
    "# Missing values\n",
    "heart_data.isnull().sum()"
   ]
  },
  {
   "cell_type": "markdown",
   "metadata": {},
   "source": [
    "# Data exploration"
   ]
  },
  {
   "cell_type": "code",
   "execution_count": 7,
   "metadata": {},
   "outputs": [
    {
     "data": {
      "text/plain": [
       "<matplotlib.axes._subplots.AxesSubplot at 0x7f18c910d5f8>"
      ]
     },
     "execution_count": 7,
     "metadata": {},
     "output_type": "execute_result"
    },
    {
     "data": {
      "image/png": "[encoded data removed]",
      "text/plain": [
       "<Figure size 432x288 with 1 Axes>"
      ]
     },
     "metadata": {},
     "output_type": "display_data"
    }
   ],
   "source": [
    "sns.distplot(heart_data[\"age\"], bins=4, kde=False)"
   ]
  },
  {
   "cell_type": "markdown",
   "metadata": {},
   "source": [
    "* **Approximately, 80% of the people are in the range of 41-65.**"
   ]
  },
  {
   "cell_type": "code",
   "execution_count": 8,
   "metadata": {},
   "outputs": [
    {
     "data": {
      "text/plain": [
       "<matplotlib.axes._subplots.AxesSubplot at 0x7f18b81d5a58>"
      ]
     },
     "execution_count": 8,
     "metadata": {},
     "output_type": "execute_result"
    },
    {
     "data": {
      "image/png": "[encoded data removed]",
      "text/plain": [
       "<Figure size 432x288 with 1 Axes>"
      ]
     },
     "metadata": {},
     "output_type": "display_data"
    }
   ],
   "source": [
    "sns.countplot(heart_data[\"sex\"])"
   ]
  },
  {
   "cell_type": "markdown",
   "metadata": {},
   "source": [
    "* **More than 2/3 of the population in the dataset are male**"
   ]
  },
  {
   "cell_type": "code",
   "execution_count": 9,
   "metadata": {},
   "outputs": [
    {
     "name": "stdout",
     "output_type": "stream",
     "text": [
      "Porcentage of males: 68.317\n",
      "procentage of females: 31.683\n"
     ]
    }
   ],
   "source": [
    "total = len(heart_data[\"sex\"])\n",
    "males = heart_data[\"sex\"].sum()\n",
    "females = len(heart_data[\"sex\"]) - males\n",
    "print(\"Porcentage of males:\", round(males/total*100, 3))\n",
    "print(\"procentage of females:\", round(females/total*100, 3))"
   ]
  },
  {
   "cell_type": "code",
   "execution_count": 10,
   "metadata": {},
   "outputs": [
    {
     "data": {
      "text/plain": [
       "Text(0, 0.5, 'amount')"
      ]
     },
     "execution_count": 10,
     "metadata": {},
     "output_type": "execute_result"
    },
    {
     "data": {
      "image/png": "[encoded data removed]",
      "text/plain": [
       "<Figure size 432x288 with 1 Axes>"
      ]
     },
     "metadata": {},
     "output_type": "display_data"
    }
   ],
   "source": [
    "sex_graph = sns.countplot(heart_data[\"sex\"], hue=heart_data[\"target\"])\n",
    "sex_graph.set_ylabel(\"amount\")"
   ]
  },
  {
   "cell_type": "markdown",
   "metadata": {},
   "source": [
    "* **There are not a huge disparity between the number of healthy and unhealthy men. The difference is more notoriuos for females.**"
   ]
  },
  {
   "cell_type": "code",
   "execution_count": 11,
   "metadata": {},
   "outputs": [
    {
     "data": {
      "text/plain": [
       "Text(0, 0.5, 'amount')"
      ]
     },
     "execution_count": 11,
     "metadata": {},
     "output_type": "execute_result"
    },
    {
     "data": {
      "image/png": "[encoded data removed]",
      "text/plain": [
       "<Figure size 432x288 with 1 Axes>"
      ]
     },
     "metadata": {},
     "output_type": "display_data"
    }
   ],
   "source": [
    "cp_graph = sns.countplot(heart_data[\"cp\"], color=\"purple\")\n",
    "cp_graph.set_xlabel(\"type of chest pain\")\n",
    "cp_graph.set_ylabel(\"amount\")"
   ]
  },
  {
   "cell_type": "markdown",
   "metadata": {},
   "source": [
    "* **Almost, half of the people are asymptomatic.**"
   ]
  },
  {
   "cell_type": "code",
   "execution_count": 12,
   "metadata": {},
   "outputs": [
    {
     "data": {
      "text/plain": [
       "<matplotlib.axes._subplots.AxesSubplot at 0x7f18b8073278>"
      ]
     },
     "execution_count": 12,
     "metadata": {},
     "output_type": "execute_result"
    },
    {
     "data": {
      "image/png": "[encoded data removed]",
      "text/plain": [
       "<Figure size 720x720 with 2 Axes>"
      ]
     },
     "metadata": {},
     "output_type": "display_data"
    }
   ],
   "source": [
    "plt.figure(figsize=(10, 10))\n",
    "sns.heatmap(heart_data.corr(), annot=True, fmt='.2f')"
   ]
  },
  {
   "cell_type": "markdown",
   "metadata": {},
   "source": [
    "* **A summary of the correlation of every pair of features. The ones that are more correlated with the target are cp, thalach and slop in that order. This is a good way to later select the most promising features for our final model, although there are other more sophisticated and automated ways to select the best features.**"
   ]
  },
  {
   "cell_type": "markdown",
   "metadata": {},
   "source": [
    "# Preprocessing data"
   ]
  },
  {
   "cell_type": "code",
   "execution_count": 13,
   "metadata": {},
   "outputs": [
    {
     "data": {
      "text/plain": [
       "age           int64\n",
       "sex           int64\n",
       "cp            int64\n",
       "trestbps      int64\n",
       "chol          int64\n",
       "fbs           int64\n",
       "restecg       int64\n",
       "thalach       int64\n",
       "exang         int64\n",
       "oldpeak     float64\n",
       "slope         int64\n",
       "ca            int64\n",
       "thal          int64\n",
       "target        int64\n",
       "dtype: object"
      ]
     },
     "execution_count": 13,
     "metadata": {},
     "output_type": "execute_result"
    }
   ],
   "source": [
    "heart_data.dtypes"
   ]
  },
  {
   "cell_type": "markdown",
   "metadata": {},
   "source": [
    "Due to the description of the features, some of them are categorical not numbers."
   ]
  },
  {
   "cell_type": "code",
   "execution_count": 14,
   "metadata": {},
   "outputs": [],
   "source": [
    "heart_data['sex'] = heart_data['sex'].astype('object')\n",
    "heart_data['cp'] = heart_data['cp'].astype('object')\n",
    "heart_data['fbs'] = heart_data['fbs'].astype('object')\n",
    "heart_data['restecg'] = heart_data['restecg'].astype('object')\n",
    "heart_data['exang'] = heart_data['exang'].astype('object')\n",
    "heart_data['slope'] = heart_data['slope'].astype('object')\n",
    "heart_data['thal'] = heart_data['thal'].astype('object')"
   ]
  },
  {
   "cell_type": "code",
   "execution_count": 15,
   "metadata": {},
   "outputs": [
    {
     "data": {
      "text/plain": [
       "age           int64\n",
       "sex          object\n",
       "cp           object\n",
       "trestbps      int64\n",
       "chol          int64\n",
       "fbs          object\n",
       "restecg      object\n",
       "thalach       int64\n",
       "exang        object\n",
       "oldpeak     float64\n",
       "slope        object\n",
       "ca            int64\n",
       "thal         object\n",
       "target        int64\n",
       "dtype: object"
      ]
     },
     "execution_count": 15,
     "metadata": {},
     "output_type": "execute_result"
    }
   ],
   "source": [
    "heart_data.dtypes"
   ]
  },
  {
   "cell_type": "code",
   "execution_count": 16,
   "metadata": {},
   "outputs": [
    {
     "data": {
      "text/html": [
       "<div>\n",
       "<style scoped>\n",
       "    .dataframe tbody tr th:only-of-type {\n",
       "        vertical-align: middle;\n",
       "    }\n",
       "\n",
       "    .dataframe tbody tr th {\n",
       "        vertical-align: top;\n",
       "    }\n",
       "\n",
       "    .dataframe thead th {\n",
       "        text-align: right;\n",
       "    }\n",
       "</style>\n",
       "<table border=\"1\" class=\"dataframe\">\n",
       "  <thead>\n",
       "    <tr style=\"text-align: right;\">\n",
       "      <th></th>\n",
       "      <th>age</th>\n",
       "      <th>trestbps</th>\n",
       "      <th>chol</th>\n",
       "      <th>thalach</th>\n",
       "      <th>oldpeak</th>\n",
       "      <th>ca</th>\n",
       "      <th>target</th>\n",
       "      <th>sex_0</th>\n",
       "      <th>sex_1</th>\n",
       "      <th>cp_0</th>\n",
       "      <th>cp_1</th>\n",
       "      <th>cp_2</th>\n",
       "      <th>cp_3</th>\n",
       "      <th>fbs_0</th>\n",
       "      <th>fbs_1</th>\n",
       "      <th>restecg_0</th>\n",
       "      <th>restecg_1</th>\n",
       "      <th>restecg_2</th>\n",
       "      <th>exang_0</th>\n",
       "      <th>exang_1</th>\n",
       "      <th>slope_0</th>\n",
       "      <th>slope_1</th>\n",
       "      <th>slope_2</th>\n",
       "      <th>thal_0</th>\n",
       "      <th>thal_1</th>\n",
       "      <th>thal_2</th>\n",
       "      <th>thal_3</th>\n",
       "    </tr>\n",
       "  </thead>\n",
       "  <tbody>\n",
       "    <tr>\n",
       "      <th>0</th>\n",
       "      <td>63</td>\n",
       "      <td>145</td>\n",
       "      <td>233</td>\n",
       "      <td>150</td>\n",
       "      <td>2.3</td>\n",
       "      <td>0</td>\n",
       "      <td>1</td>\n",
       "      <td>0</td>\n",
       "      <td>1</td>\n",
       "      <td>0</td>\n",
       "      <td>0</td>\n",
       "      <td>0</td>\n",
       "      <td>1</td>\n",
       "      <td>0</td>\n",
       "      <td>1</td>\n",
       "      <td>1</td>\n",
       "      <td>0</td>\n",
       "      <td>0</td>\n",
       "      <td>1</td>\n",
       "      <td>0</td>\n",
       "      <td>1</td>\n",
       "      <td>0</td>\n",
       "      <td>0</td>\n",
       "      <td>0</td>\n",
       "      <td>1</td>\n",
       "      <td>0</td>\n",
       "      <td>0</td>\n",
       "    </tr>\n",
       "    <tr>\n",
       "      <th>1</th>\n",
       "      <td>37</td>\n",
       "      <td>130</td>\n",
       "      <td>250</td>\n",
       "      <td>187</td>\n",
       "      <td>3.5</td>\n",
       "      <td>0</td>\n",
       "      <td>1</td>\n",
       "      <td>0</td>\n",
       "      <td>1</td>\n",
       "      <td>0</td>\n",
       "      <td>0</td>\n",
       "      <td>1</td>\n",
       "      <td>0</td>\n",
       "      <td>1</td>\n",
       "      <td>0</td>\n",
       "      <td>0</td>\n",
       "      <td>1</td>\n",
       "      <td>0</td>\n",
       "      <td>1</td>\n",
       "      <td>0</td>\n",
       "      <td>1</td>\n",
       "      <td>0</td>\n",
       "      <td>0</td>\n",
       "      <td>0</td>\n",
       "      <td>0</td>\n",
       "      <td>1</td>\n",
       "      <td>0</td>\n",
       "    </tr>\n",
       "    <tr>\n",
       "      <th>2</th>\n",
       "      <td>41</td>\n",
       "      <td>130</td>\n",
       "      <td>204</td>\n",
       "      <td>172</td>\n",
       "      <td>1.4</td>\n",
       "      <td>0</td>\n",
       "      <td>1</td>\n",
       "      <td>1</td>\n",
       "      <td>0</td>\n",
       "      <td>0</td>\n",
       "      <td>1</td>\n",
       "      <td>0</td>\n",
       "      <td>0</td>\n",
       "      <td>1</td>\n",
       "      <td>0</td>\n",
       "      <td>1</td>\n",
       "      <td>0</td>\n",
       "      <td>0</td>\n",
       "      <td>1</td>\n",
       "      <td>0</td>\n",
       "      <td>0</td>\n",
       "      <td>0</td>\n",
       "      <td>1</td>\n",
       "      <td>0</td>\n",
       "      <td>0</td>\n",
       "      <td>1</td>\n",
       "      <td>0</td>\n",
       "    </tr>\n",
       "    <tr>\n",
       "      <th>3</th>\n",
       "      <td>56</td>\n",
       "      <td>120</td>\n",
       "      <td>236</td>\n",
       "      <td>178</td>\n",
       "      <td>0.8</td>\n",
       "      <td>0</td>\n",
       "      <td>1</td>\n",
       "      <td>0</td>\n",
       "      <td>1</td>\n",
       "      <td>0</td>\n",
       "      <td>1</td>\n",
       "      <td>0</td>\n",
       "      <td>0</td>\n",
       "      <td>1</td>\n",
       "      <td>0</td>\n",
       "      <td>0</td>\n",
       "      <td>1</td>\n",
       "      <td>0</td>\n",
       "      <td>1</td>\n",
       "      <td>0</td>\n",
       "      <td>0</td>\n",
       "      <td>0</td>\n",
       "      <td>1</td>\n",
       "      <td>0</td>\n",
       "      <td>0</td>\n",
       "      <td>1</td>\n",
       "      <td>0</td>\n",
       "    </tr>\n",
       "    <tr>\n",
       "      <th>4</th>\n",
       "      <td>57</td>\n",
       "      <td>120</td>\n",
       "      <td>354</td>\n",
       "      <td>163</td>\n",
       "      <td>0.6</td>\n",
       "      <td>0</td>\n",
       "      <td>1</td>\n",
       "      <td>1</td>\n",
       "      <td>0</td>\n",
       "      <td>1</td>\n",
       "      <td>0</td>\n",
       "      <td>0</td>\n",
       "      <td>0</td>\n",
       "      <td>1</td>\n",
       "      <td>0</td>\n",
       "      <td>0</td>\n",
       "      <td>1</td>\n",
       "      <td>0</td>\n",
       "      <td>0</td>\n",
       "      <td>1</td>\n",
       "      <td>0</td>\n",
       "      <td>0</td>\n",
       "      <td>1</td>\n",
       "      <td>0</td>\n",
       "      <td>0</td>\n",
       "      <td>1</td>\n",
       "      <td>0</td>\n",
       "    </tr>\n",
       "  </tbody>\n",
       "</table>\n",
       "</div>"
      ],
      "text/plain": [
       "   age  trestbps  chol  thalach   ...    thal_0  thal_1  thal_2  thal_3\n",
       "0   63       145   233      150   ...         0       1       0       0\n",
       "1   37       130   250      187   ...         0       0       1       0\n",
       "2   41       130   204      172   ...         0       0       1       0\n",
       "3   56       120   236      178   ...         0       0       1       0\n",
       "4   57       120   354      163   ...         0       0       1       0\n",
       "\n",
       "[5 rows x 27 columns]"
      ]
     },
     "execution_count": 16,
     "metadata": {},
     "output_type": "execute_result"
    }
   ],
   "source": [
    "heart_data = pd.get_dummies(heart_data)\n",
    "heart_data.head()"
   ]
  },
  {
   "cell_type": "code",
   "execution_count": 17,
   "metadata": {},
   "outputs": [
    {
     "name": "stdout",
     "output_type": "stream",
     "text": [
      "Heart data shape is: 303 x 27\n"
     ]
    }
   ],
   "source": [
    "print(\"Heart data shape is:\", heart_data.shape[0], \"x\", heart_data.shape[1])"
   ]
  },
  {
   "cell_type": "markdown",
   "metadata": {},
   "source": [
    "# Machine learning"
   ]
  },
  {
   "cell_type": "code",
   "execution_count": 18,
   "metadata": {},
   "outputs": [],
   "source": [
    "# Getting features and target\n",
    "X = heart_data.drop([\"target\"], axis=1)\n",
    "y = heart_data[\"target\"]"
   ]
  },
  {
   "cell_type": "code",
   "execution_count": 19,
   "metadata": {},
   "outputs": [
    {
     "name": "stdout",
     "output_type": "stream",
     "text": [
      "[[113  25]\n",
      " [ 29 136]]\n",
      "recall: 0.8424242424242424\n"
     ]
    }
   ],
   "source": [
    "# Random Forest\n",
    "rf_model = RandomForestClassifier(n_estimators=100)\n",
    "rf_predictions = cross_val_predict(rf_model, X, y, cv=5)\n",
    "print(confusion_matrix(y, rf_predictions))\n",
    "rf_scores = cross_val_score(rf_model, X, y, scoring=\"recall\", cv=5)\n",
    "print(\"recall:\", rf_scores.mean())"
   ]
  },
  {
   "cell_type": "code",
   "execution_count": 20,
   "metadata": {},
   "outputs": [
    {
     "name": "stdout",
     "output_type": "stream",
     "text": [
      "[[106  32]\n",
      " [ 23 142]]\n",
      "recall: 0.8606060606060606\n"
     ]
    }
   ],
   "source": [
    "# Logistic Regression\n",
    "lr_model = LogisticRegression(solver=\"liblinear\")\n",
    "lr_predictions = cross_val_predict(lr_model, X, y, cv=5)\n",
    "print(confusion_matrix(y, lr_predictions))\n",
    "lr_scores = cross_val_score(lr_model, X, y, scoring=\"recall\", cv=5)\n",
    "print(\"recall:\", lr_scores.mean())"
   ]
  },
  {
   "cell_type": "code",
   "execution_count": 21,
   "metadata": {},
   "outputs": [
    {
     "name": "stdout",
     "output_type": "stream",
     "text": [
      "[[  8 130]\n",
      " [  2 163]]\n",
      "recall: 0.9878787878787879\n"
     ]
    }
   ],
   "source": [
    "# Support Vector Machine\n",
    "svc_model = SVC(gamma=\"auto\")\n",
    "svc_predictions = cross_val_predict(svc_model, X, y, cv=5)\n",
    "print(confusion_matrix(y, svc_predictions))\n",
    "svc_scores = cross_val_score(svc_model, X, y, scoring=\"recall\", cv=5)\n",
    "print(\"recall:\", svc_scores.mean())"
   ]
  },
  {
   "cell_type": "code",
   "execution_count": 22,
   "metadata": {},
   "outputs": [
    {
     "name": "stdout",
     "output_type": "stream",
     "text": [
      "[[108  30]\n",
      " [ 29 136]]\n",
      "recall: 0.8242424242424242\n"
     ]
    }
   ],
   "source": [
    "# Naive Bayes\n",
    "nb_model = GaussianNB()\n",
    "nb_predictions = cross_val_predict(nb_model, X, y, cv=5)\n",
    "print(confusion_matrix(y, nb_predictions))\n",
    "nb_scores = cross_val_score(nb_model, X, y, scoring=\"recall\", cv=5)\n",
    "print(\"recall:\", nb_scores.mean())"
   ]
  },
  {
   "cell_type": "code",
   "execution_count": 23,
   "metadata": {},
   "outputs": [
    {
     "name": "stdout",
     "output_type": "stream",
     "text": [
      "[[108  30]\n",
      " [ 29 136]]\n",
      "recall: 0.8303030303030304\n"
     ]
    }
   ],
   "source": [
    "# XGBoost (The most popular model for kaggle competitions)\n",
    "xgb_model = XGBClassifier()\n",
    "xgb_predictions = cross_val_predict(nb_model, X, y, cv=5)\n",
    "print(confusion_matrix(y, xgb_predictions))\n",
    "xgb_scores = cross_val_score(xgb_model, X, y, scoring=\"recall\", cv=5)\n",
    "print(\"recall:\", xgb_scores.mean())"
   ]
  },
  {
   "cell_type": "markdown",
   "metadata": {},
   "source": [
    "On average, four models have a similar performance. The support vector machine was the only one that had clearly a different performance. A really good number for recall, but if we do the math for other metrics the numbers are not that impressive."
   ]
  },
  {
   "cell_type": "markdown",
   "metadata": {},
   "source": [
    "# Focus on SVM\n",
    "\n",
    "Besides that, SVM is showing the most interesting results. Due to the fact that is  already doing a great job on false negatives (but having a hard time knowing when someone is not sick). However I think it is a good idea to choose SVM as main model."
   ]
  },
  {
   "cell_type": "markdown",
   "metadata": {},
   "source": [
    "# Feature scaling"
   ]
  },
  {
   "cell_type": "code",
   "execution_count": 24,
   "metadata": {},
   "outputs": [],
   "source": [
    "X[\"age\"] = X[\"age\"].map(lambda x: (x - X[\"age\"].min()) / (X[\"age\"].max() - X[\"age\"].min()))\n",
    "X[\"trestbps\"] = X[\"trestbps\"].map(lambda x: (x - X[\"trestbps\"].min()) / (X[\"trestbps\"].max() - X[\"trestbps\"].min()))\n",
    "X[\"chol\"] = X[\"chol\"].map(lambda x: (x - X[\"chol\"].min()) / (X[\"chol\"].max() - X[\"chol\"].min()))\n",
    "X[\"thalach\"] = X[\"thalach\"].map(lambda x: (x - X[\"thalach\"].min()) / (X[\"thalach\"].max() - X[\"thalach\"].min()))\n",
    "X[\"oldpeak\"] = X[\"oldpeak\"].map(lambda x: (x - X[\"oldpeak\"].min()) / (X[\"oldpeak\"].max() - X[\"oldpeak\"].min()))"
   ]
  },
  {
   "cell_type": "code",
   "execution_count": 25,
   "metadata": {},
   "outputs": [
    {
     "name": "stdout",
     "output_type": "stream",
     "text": [
      "[[105  33]\n",
      " [ 16 149]]\n",
      "recall: 0.9030303030303031\n"
     ]
    }
   ],
   "source": [
    "# Support Vector Machine\n",
    "svc_model = SVC(gamma=\"auto\")\n",
    "svc_predictions = cross_val_predict(svc_model, X, y, cv=5)\n",
    "print(confusion_matrix(y, svc_predictions))\n",
    "svc_scores = cross_val_score(svc_model, X, y, scoring=\"recall\", cv=5)\n",
    "print(\"recall:\", svc_scores.mean())"
   ]
  },
  {
   "cell_type": "markdown",
   "metadata": {},
   "source": [
    "The recall now is lower, but applying feature scaling, the SVM is doing a better job classifying the people in general. It is a more robust classifier compared to the previous one."
   ]
  },
  {
   "cell_type": "markdown",
   "metadata": {},
   "source": [
    "# Feature selection"
   ]
  },
  {
   "cell_type": "code",
   "execution_count": 26,
   "metadata": {},
   "outputs": [
    {
     "name": "stdout",
     "output_type": "stream",
     "text": [
      "[[ 92  46]\n",
      " [ 34 131]]\n",
      "the best porcentage so far: 1\n",
      "the best recall so far 0.793939393939394 \n",
      "\n",
      "[[102  36]\n",
      " [ 19 146]]\n",
      "the best porcentage so far: 9\n",
      "the best recall so far 0.884848484848485 \n",
      "\n",
      "[[104  34]\n",
      " [ 17 148]]\n",
      "the best porcentage so far: 17\n",
      "the best recall so far 0.8969696969696971 \n",
      "\n",
      "[[109  29]\n",
      " [ 15 150]]\n",
      "the best porcentage so far: 21\n",
      "the best recall so far 0.9090909090909092 \n",
      "\n",
      "[[108  30]\n",
      " [ 14 151]]\n",
      "the best porcentage so far: 33\n",
      "the best recall so far 0.9151515151515153 \n",
      "\n"
     ]
    }
   ],
   "source": [
    "best_recall = 0\n",
    "for n in range(1, 101):\n",
    "    X_new = SelectPercentile(chi2, percentile=n).fit_transform(X, y)\n",
    "\n",
    "    svc_model = SVC(gamma=\"auto\")\n",
    "    svc_predictions = cross_val_predict(svc_model, X_new, y, cv=5)\n",
    "    svc_scores = cross_val_score(svc_model, X_new, y, scoring=\"recall\", cv=5)\n",
    "    \n",
    "    if svc_scores.mean() > best_recall:\n",
    "        best_recall = svc_scores.mean()\n",
    "        print(confusion_matrix(y, svc_predictions))\n",
    "        print(\"the best porcentage so far:\", n)\n",
    "        print(\"the best recall so far\", svc_scores.mean(), \"\\n\")\n",
    "        "
   ]
  },
  {
   "cell_type": "code",
   "execution_count": 27,
   "metadata": {},
   "outputs": [
    {
     "name": "stdout",
     "output_type": "stream",
     "text": [
      "[[108  30]\n",
      " [ 14 151]]\n",
      "recall: 0.9151515151515153 \n",
      "\n",
      "Old number of features used: 26\n",
      "New number of features used: 9\n"
     ]
    }
   ],
   "source": [
    "X_new = SelectPercentile(chi2, percentile=33).fit_transform(X, y)        \n",
    "svc_model = SVC(gamma=\"auto\")\n",
    "svc_predictions = cross_val_predict(svc_model, X_new, y, cv=5)\n",
    "print(confusion_matrix(y, svc_predictions))\n",
    "svc_scores = cross_val_score(svc_model, X_new, y, scoring=\"recall\", cv=5)\n",
    "print(\"recall:\", svc_scores.mean(), \"\\n\")\n",
    "\n",
    "print(\"Old number of features used:\",X.shape[1])\n",
    "print(\"New number of features used:\",X_new.shape[1])"
   ]
  },
  {
   "cell_type": "markdown",
   "metadata": {},
   "source": [
    "Using feature selection, we got rid of irrelevant features and now we are using just the ones that make our model better. Before we used 26 features, now we are using just 9 of them. Roughly 1/3 of them.\n",
    "\n",
    "If you are curious about what are the features we are using run the cell below. They are, the nine that have the highest correlation with the target."
   ]
  },
  {
   "cell_type": "code",
   "execution_count": 28,
   "metadata": {},
   "outputs": [],
   "source": [
    "# EXPLORE FOR BETTER WAY TO KNOW BEST FEATURES AFTER FEATURE SELECTION\n",
    "\n",
    "#plt.figure(figsize=(20, 20))\n",
    "#sns.heatmap(heart_data.corr(), annot=True, fmt='.2f')"
   ]
  },
  {
   "cell_type": "markdown",
   "metadata": {},
   "source": [
    "# Cross validation for parameter tuning"
   ]
  },
  {
   "cell_type": "code",
   "execution_count": 29,
   "metadata": {},
   "outputs": [
    {
     "name": "stdout",
     "output_type": "stream",
     "text": [
      "C: 1\n",
      "Kernel: linear\n",
      "[[111  27]\n",
      " [ 24 141]]\n",
      "recall: 0.8545454545454547 \n",
      "\n",
      "C: 1\n",
      "Kernel: rbf\n",
      "[[108  30]\n",
      " [ 14 151]]\n",
      "recall: 0.9151515151515153 \n",
      "\n",
      "C: 1\n",
      "Kernel: poly\n",
      "[[ 86  52]\n",
      " [  8 157]]\n",
      "recall: 0.9515151515151515 \n",
      "\n",
      "C: 10\n",
      "Kernel: linear\n",
      "[[106  32]\n",
      " [ 20 145]]\n",
      "recall: 0.8787878787878789 \n",
      "\n",
      "C: 10\n",
      "Kernel: rbf\n",
      "[[109  29]\n",
      " [ 24 141]]\n",
      "recall: 0.8545454545454547 \n",
      "\n",
      "C: 10\n",
      "Kernel: poly\n",
      "[[108  30]\n",
      " [ 17 148]]\n",
      "recall: 0.8969696969696971 \n",
      "\n",
      "C: 100\n",
      "Kernel: linear\n",
      "[[107  31]\n",
      " [ 22 143]]\n",
      "recall: 0.8666666666666668 \n",
      "\n",
      "C: 100\n",
      "Kernel: rbf\n",
      "[[108  30]\n",
      " [ 25 140]]\n",
      "recall: 0.8484848484848484 \n",
      "\n",
      "C: 100\n",
      "Kernel: poly\n",
      "[[107  31]\n",
      " [ 20 145]]\n",
      "recall: 0.8787878787878789 \n",
      "\n",
      "C: 1000\n",
      "Kernel: linear\n",
      "[[108  30]\n",
      " [ 22 143]]\n",
      "recall: 0.8666666666666668 \n",
      "\n",
      "C: 1000\n",
      "Kernel: rbf\n",
      "[[112  26]\n",
      " [ 27 138]]\n",
      "recall: 0.8363636363636363 \n",
      "\n",
      "C: 1000\n",
      "Kernel: poly\n",
      "[[105  33]\n",
      " [ 27 138]]\n",
      "recall: 0.8363636363636363 \n",
      "\n"
     ]
    }
   ],
   "source": [
    "\n",
    "\n",
    "Cs = [1, 10, 100, 1000]\n",
    "kernels = [\"linear\", \"rbf\", \"poly\"]\n",
    "\n",
    "for c in Cs:\n",
    "    for k in kernels:\n",
    "        \n",
    "        print(\"C:\", c)\n",
    "        print(\"Kernel:\", k)\n",
    "        svc_model = SVC(gamma=\"auto\", C=c, kernel=k)\n",
    "        svc_predictions = cross_val_predict(svc_model, X_new, y, cv=5)\n",
    "        print(confusion_matrix(y, svc_predictions))\n",
    "        svc_scores = cross_val_score(svc_model, X_new, y, scoring=\"recall\", cv=5)\n",
    "        print(\"recall:\", svc_scores.mean(), \"\\n\")\n",
    "\n",
    "\n"
   ]
  },
  {
   "cell_type": "code",
   "execution_count": 30,
   "metadata": {},
   "outputs": [],
   "source": []
  }
 ],
 "metadata": {
  "kernelspec": {
   "display_name": "Python 3",
   "language": "python",
   "name": "python3"
  },
  "language_info": {
   "codemirror_mode": {
    "name": "ipython",
    "version": 3
   },
   "file_extension": ".py",
   "mimetype": "text/x-python",
   "name": "python",
   "nbconvert_exporter": "python",
   "pygments_lexer": "ipython3",
   "version": "3.6.8"
  }
 },
 "nbformat": 4,
 "nbformat_minor": 2
}
